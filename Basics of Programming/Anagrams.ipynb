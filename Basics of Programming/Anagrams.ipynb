{
 "cells": [
  {
   "cell_type": "code",
   "execution_count": 37,
   "metadata": {
    "collapsed": false,
    "scrolled": true
   },
   "outputs": [
    {
     "name": "stdout",
     "output_type": "stream",
     "text": [
      "1\n",
      "ert\n",
      "hj\n",
      "5\n"
     ]
    }
   ],
   "source": [
    "n = int(input())\n",
    "for i in range(n):\n",
    "    count = 0\n",
    "    s1 = input()\n",
    "    s2 = input()\n",
    "    for i in s1:\n",
    "        if i in s2:\n",
    "            s1 = s1.replace(i, \"\")\n",
    "            s2 = s2.replace(i, \"\")\n",
    "        else:\n",
    "            count += 1\n",
    "            s1 = s1.replace(i, \"\")\n",
    "        \n",
    "    count += len(s2)\n",
    "            \n",
    "    print(count)\n",
    "    "
   ]
  }
 ],
 "metadata": {
  "kernelspec": {
   "display_name": "Python 3",
   "language": "python",
   "name": "python3"
  },
  "language_info": {
   "codemirror_mode": {
    "name": "ipython",
    "version": 3
   },
   "file_extension": ".py",
   "mimetype": "text/x-python",
   "name": "python",
   "nbconvert_exporter": "python",
   "pygments_lexer": "ipython3",
   "version": "3.5.1"
  }
 },
 "nbformat": 4,
 "nbformat_minor": 0
}
