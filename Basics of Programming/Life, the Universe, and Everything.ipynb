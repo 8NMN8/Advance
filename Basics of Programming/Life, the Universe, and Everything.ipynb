{
 "cells": [
  {
   "cell_type": "code",
   "execution_count": 3,
   "metadata": {
    "collapsed": false
   },
   "outputs": [
    {
     "name": "stdout",
     "output_type": "stream",
     "text": [
      "4\n",
      "89\n",
      "3\n",
      "7\n",
      "29\n",
      "42\n",
      "4\n",
      "89\n",
      "3\n",
      "7\n",
      "29\n"
     ]
    }
   ],
   "source": [
    "a = []\n",
    "while True:\n",
    "    x = int(input())\n",
    "    if x == 42:\n",
    "        break\n",
    "    else:\n",
    "        a.append(x)\n",
    "for i in range(len(a)):\n",
    "    print(a[i])\n",
    "    "
   ]
  }
 ],
 "metadata": {
  "kernelspec": {
   "display_name": "Python 3",
   "language": "python",
   "name": "python3"
  },
  "language_info": {
   "codemirror_mode": {
    "name": "ipython",
    "version": 3
   },
   "file_extension": ".py",
   "mimetype": "text/x-python",
   "name": "python",
   "nbconvert_exporter": "python",
   "pygments_lexer": "ipython3",
   "version": "3.5.1"
  }
 },
 "nbformat": 4,
 "nbformat_minor": 0
}
