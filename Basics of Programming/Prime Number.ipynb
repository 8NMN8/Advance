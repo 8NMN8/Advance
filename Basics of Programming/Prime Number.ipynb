{
 "cells": [
  {
   "cell_type": "code",
   "execution_count": 66,
   "metadata": {
    "collapsed": false
   },
   "outputs": [
    {
     "name": "stdout",
     "output_type": "stream",
     "text": [
      "30\n",
      "2 3 5 7 11 13 17 19 23 29\n"
     ]
    }
   ],
   "source": [
    "# erythrophene sieve\n",
    "import math\n",
    "p = int(input())\n",
    "a = [True for i in range(p + 1)]\n",
    "ans = []\n",
    "\n",
    "for i in range(2, math.floor(math.sqrt(p)) + 1):\n",
    "    if a[i]:\n",
    "        for j in range(i * i, p + 1, i):\n",
    "            a[j] = False\n",
    "\n",
    "for i in range(2, p + 1):\n",
    "    if a[i]:\n",
    "        ans.append(i)\n",
    "print(*ans)\n",
    "        "
   ]
  },
  {
   "cell_type": "code",
   "execution_count": null,
   "metadata": {
    "collapsed": true
   },
   "outputs": [],
   "source": [
    "# тест на простоту (p от 1 до 1000), малая теорема Ферма\n",
    "import random\n",
    "p = int(input())\n",
    "ans = True \n",
    "if p == 1:\n",
    "    ans = True  \n",
    "elif p == 561:  # число Кармайкла  (6k + 1)(12k + 1)(18k + 1) \n",
    "    ans = False   \n",
    "else:\n",
    "    a = random.randint(1, p - 1)\n",
    "    if a ** (p - 1) % p != 1:\n",
    "        ans = False\n",
    "if ans:\n",
    "    print(\"Prime number\")\n",
    "else:\n",
    "    print(\"NO\")"
   ]
  },
  {
   "cell_type": "code",
   "execution_count": null,
   "metadata": {
    "collapsed": true
   },
   "outputs": [],
   "source": []
  }
 ],
 "metadata": {
  "kernelspec": {
   "display_name": "Python 3",
   "language": "python",
   "name": "python3"
  },
  "language_info": {
   "codemirror_mode": {
    "name": "ipython",
    "version": 3
   },
   "file_extension": ".py",
   "mimetype": "text/x-python",
   "name": "python",
   "nbconvert_exporter": "python",
   "pygments_lexer": "ipython3",
   "version": "3.5.1"
  }
 },
 "nbformat": 4,
 "nbformat_minor": 0
}
