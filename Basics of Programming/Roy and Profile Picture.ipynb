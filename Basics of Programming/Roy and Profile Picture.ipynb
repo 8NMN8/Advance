{
 "cells": [
  {
   "cell_type": "code",
   "execution_count": 2,
   "metadata": {
    "collapsed": false
   },
   "outputs": [
    {
     "name": "stdout",
     "output_type": "stream",
     "text": [
      "180\n",
      "3\n",
      "640 480\n",
      "CROP IT\n",
      "120 300\n",
      "UPLOAD ANOTHER\n",
      "180 180\n",
      "ACCEPTED\n"
     ]
    }
   ],
   "source": [
    "L = float(input())\n",
    "N = int(input())\n",
    "for i in range(N):\n",
    "    W, H = map(float, input().split())\n",
    "    if W < L or H < L:\n",
    "        print(\"UPLOAD ANOTHER\")\n",
    "    else:\n",
    "        if W == H:\n",
    "            print(\"ACCEPTED\")\n",
    "        else:\n",
    "            print(\"CROP IT\")"
   ]
  },
  {
   "cell_type": "code",
   "execution_count": null,
   "metadata": {
    "collapsed": true
   },
   "outputs": [],
   "source": []
  }
 ],
 "metadata": {
  "kernelspec": {
   "display_name": "Python 3",
   "language": "python",
   "name": "python3"
  },
  "language_info": {
   "codemirror_mode": {
    "name": "ipython",
    "version": 3
   },
   "file_extension": ".py",
   "mimetype": "text/x-python",
   "name": "python",
   "nbconvert_exporter": "python",
   "pygments_lexer": "ipython3",
   "version": "3.5.1"
  }
 },
 "nbformat": 4,
 "nbformat_minor": 0
}
