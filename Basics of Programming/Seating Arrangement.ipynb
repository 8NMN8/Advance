{
 "cells": [
  {
   "cell_type": "code",
   "execution_count": 4,
   "metadata": {
    "collapsed": false
   },
   "outputs": [
    {
     "name": "stdout",
     "output_type": "stream",
     "text": [
      "2\n",
      "18\n",
      "19 WS\n",
      "40\n",
      "45 AS\n"
     ]
    }
   ],
   "source": [
    "# вывести место напротив и его тип\n",
    "\n",
    "T = int(input())\n",
    "for i in range(T):\n",
    "    N = int(input())\n",
    "    if N % 6 == 1 or N % 6 == 0:\n",
    "        seat_type = \"WS\"\n",
    "    elif N % 6 == 2 or N % 6 == 5:\n",
    "        seat_type = \"MS\"\n",
    "    else:\n",
    "        seat_type = \"AS\"\n",
    "    \n",
    "    another_seat = N\n",
    "    if N % 12 <= 6:\n",
    "        \n",
    "    print(another_seat, seat_type)"
   ]
  },
  {
   "cell_type": "code",
   "execution_count": null,
   "metadata": {
    "collapsed": true
   },
   "outputs": [],
   "source": [
    "# вывести последующее место и его тип\n",
    "\n",
    "T = int(input())\n",
    "for i in range(T):\n",
    "    N = int(input())\n",
    "    if N % 6 == 1 or N % 6 == 0:\n",
    "        seat_type = \"WS\"\n",
    "    elif N % 6 == 2 or N % 6 == 5:\n",
    "        seat_type = \"MS\"\n",
    "    else:\n",
    "        seat_type = \"AS\"\n",
    "    \n",
    "    another_seat = N\n",
    "    if N % 6 == 1:\n",
    "        another_seat += 11\n",
    "    elif N % 6 == 2:\n",
    "        another_seat += 9\n",
    "    elif N % 6 == 3:\n",
    "        another_seat += 7\n",
    "    elif N % 6 == 4:\n",
    "        another_seat += 5\n",
    "    elif N % 6 == 5:\n",
    "        another_seat += 3\n",
    "    elif N % 6 == 0:\n",
    "        another_seat += 1\n",
    "    print(another_seat, seat_type)"
   ]
  }
 ],
 "metadata": {
  "kernelspec": {
   "display_name": "Python 3",
   "language": "python",
   "name": "python3"
  },
  "language_info": {
   "codemirror_mode": {
    "name": "ipython",
    "version": 3
   },
   "file_extension": ".py",
   "mimetype": "text/x-python",
   "name": "python",
   "nbconvert_exporter": "python",
   "pygments_lexer": "ipython3",
   "version": "3.5.1"
  }
 },
 "nbformat": 4,
 "nbformat_minor": 0
}
