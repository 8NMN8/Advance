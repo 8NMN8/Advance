{
 "cells": [
  {
   "cell_type": "code",
   "execution_count": 15,
   "metadata": {
    "collapsed": false
   },
   "outputs": [
    {
     "name": "stdout",
     "output_type": "stream",
     "text": [
      "3 1\n",
      "1\n",
      "100 00:10\n",
      "тут\n",
      "66.66666666666667\n",
      "66.66666666666667\n"
     ]
    }
   ],
   "source": [
    "import re\n",
    "v, d = map(int, input().split())\n",
    "N = int(input())\n",
    "x_i = [0 for i in range(N)]\n",
    "time = [0 for i in range(N)]  # в минутах\n",
    "eaten = [0 for i in range(N)]\n",
    "opt_time = 100000000\n",
    "\n",
    "for i in range(N):\n",
    "    x_i[i], hh, mm = map(int, re.split(r\"\\D\", input()))\n",
    "    time[i] = hh * 60 + mm\n",
    "\n",
    "distance = 0\n",
    "cur_time = 0\n",
    "lo = 0 # минимальное время ожидания на пути вперед\n",
    "hi = max(time) # максимальное\n",
    "while hi - lo >= min(time):\n",
    "    print(\"тут\")\n",
    "    mid = (lo + hi) // 2\n",
    "    for i in range(N):\n",
    "        cur_time += x_i[i] / v \n",
    "        if abs(time[i] - cur_time) <= mid:\n",
    "            cur_time += d\n",
    "            eaten[i] = 1\n",
    "    time_thitherward = cur_time\n",
    "    for k in range(N - 2, -1, -1):   \n",
    "        cur_time += (x_i[k+1] - x_i[k]) / v #\n",
    "        if cur_time < x_i[k]:\n",
    "            cur_time = x_i[k] + d\n",
    "        else:\n",
    "            if not eaten[k]:\n",
    "                cur_time += d\n",
    "    cur_time += x_i[0] / v\n",
    "    time_back = cur_time - time_thitherward\n",
    "    if time_back >= time_thitherward:\n",
    "        lo = mid\n",
    "    else:\n",
    "        hi = mid\n",
    "    print(cur_time)\n",
    "    if cur_time < opt_time:\n",
    "        opt_time = cur_time\n",
    "print(cur_time)\n",
    "            "
   ]
  },
  {
   "cell_type": "code",
   "execution_count": null,
   "metadata": {
    "collapsed": true
   },
   "outputs": [],
   "source": []
  }
 ],
 "metadata": {
  "kernelspec": {
   "display_name": "Python 3",
   "language": "python",
   "name": "python3"
  },
  "language_info": {
   "codemirror_mode": {
    "name": "ipython",
    "version": 3
   },
   "file_extension": ".py",
   "mimetype": "text/x-python",
   "name": "python",
   "nbconvert_exporter": "python",
   "pygments_lexer": "ipython3",
   "version": "3.5.1"
  }
 },
 "nbformat": 4,
 "nbformat_minor": 0
}
